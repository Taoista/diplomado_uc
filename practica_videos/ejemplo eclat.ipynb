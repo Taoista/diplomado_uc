{
 "cells": [
  {
   "cell_type": "code",
   "execution_count": 1,
   "id": "82ceb6bc",
   "metadata": {},
   "outputs": [
    {
     "ename": "ImportError",
     "evalue": "cannot import name 'eclat' from 'fim' (C:\\Users\\taois\\Documents\\proyectos\\curso_uc\\env\\lib\\site-packages\\fim\\__init__.py)",
     "output_type": "error",
     "traceback": [
      "\u001b[1;31m---------------------------------------------------------------------------\u001b[0m",
      "\u001b[1;31mImportError\u001b[0m                               Traceback (most recent call last)",
      "Input \u001b[1;32mIn [1]\u001b[0m, in \u001b[0;36m<cell line: 7>\u001b[1;34m()\u001b[0m\n\u001b[0;32m      5\u001b[0m \u001b[38;5;66m# esta la funcion de apriori\u001b[39m\n\u001b[0;32m      6\u001b[0m \u001b[38;5;28;01mfrom\u001b[39;00m \u001b[38;5;21;01mapyori\u001b[39;00m \u001b[38;5;28;01mimport\u001b[39;00m apriori\n\u001b[1;32m----> 7\u001b[0m \u001b[38;5;28;01mfrom\u001b[39;00m \u001b[38;5;21;01mfim\u001b[39;00m \u001b[38;5;28;01mimport\u001b[39;00m eclat\n\u001b[0;32m      9\u001b[0m get_ipython()\u001b[38;5;241m.\u001b[39mrun_line_magic(\u001b[38;5;124m'\u001b[39m\u001b[38;5;124mmatplotlib\u001b[39m\u001b[38;5;124m'\u001b[39m, \u001b[38;5;124m'\u001b[39m\u001b[38;5;124mnotebook\u001b[39m\u001b[38;5;124m'\u001b[39m)\n",
      "\u001b[1;31mImportError\u001b[0m: cannot import name 'eclat' from 'fim' (C:\\Users\\taois\\Documents\\proyectos\\curso_uc\\env\\lib\\site-packages\\fim\\__init__.py)"
     ]
    }
   ],
   "source": [
    "import numpy as np\n",
    "import pandas as pd\n",
    "\n",
    "import matplotlib.pyplot as plt\n",
    "# esta la funcion de apriori\n",
    "from apyori import apriori\n",
    "from fim import eclat\n",
    "\n",
    "%matplotlib notebook\n"
   ]
  },
  {
   "cell_type": "code",
   "execution_count": null,
   "id": "6719a1c9",
   "metadata": {},
   "outputs": [],
   "source": [
    "df = pd.read_csv(\"retail_dataset.csv\")\n",
    "df.head()"
   ]
  },
  {
   "cell_type": "code",
   "execution_count": null,
   "id": "4894fe5d",
   "metadata": {},
   "outputs": [],
   "source": [
    "df.describe(include=\"all\")"
   ]
  },
  {
   "cell_type": "code",
   "execution_count": null,
   "id": "b4a4e9dc",
   "metadata": {},
   "outputs": [],
   "source": [
    "m = df.shape[0]\n",
    "transaction = []\n",
    "\n",
    "for i in range(0, m):\n",
    "    trans = []\n",
    "    m = df.shape[1]\n",
    "    for j in range(0, m):\n",
    "        itm = str(df.values[i, j])\n",
    "        if itm != \"nan\":\n",
    "            trans.append(itm)\n",
    "        transaction.append(trans)\n",
    "transaction"
   ]
  },
  {
   "cell_type": "markdown",
   "id": "73961bcf",
   "metadata": {},
   "source": [
    "# Regalas de asociacion ECLAT"
   ]
  },
  {
   "cell_type": "code",
   "execution_count": 4,
   "id": "792cb5d8",
   "metadata": {},
   "outputs": [
    {
     "ename": "NameError",
     "evalue": "name 'eclat' is not defined",
     "output_type": "error",
     "traceback": [
      "\u001b[1;31m---------------------------------------------------------------------------\u001b[0m",
      "\u001b[1;31mNameError\u001b[0m                                 Traceback (most recent call last)",
      "Input \u001b[1;32mIn [4]\u001b[0m, in \u001b[0;36m<cell line: 3>\u001b[1;34m()\u001b[0m\n\u001b[0;32m      1\u001b[0m result \u001b[38;5;241m=\u001b[39m []\n\u001b[1;32m----> 3\u001b[0m reglas \u001b[38;5;241m=\u001b[39m \u001b[43meclat\u001b[49m(tracts \u001b[38;5;241m=\u001b[39m transaction, target\u001b[38;5;241m=\u001b[39m\u001b[38;5;124m\"\u001b[39m\u001b[38;5;124mr\u001b[39m\u001b[38;5;124m\"\u001b[39m, supp\u001b[38;5;241m=\u001b[39m\u001b[38;5;241m20\u001b[39m, conf\u001b[38;5;241m=\u001b[39m\u001b[38;5;241m50\u001b[39m, zmin\u001b[38;5;241m=\u001b[39m\u001b[38;5;241m2\u001b[39m, report \u001b[38;5;241m=\u001b[39m \u001b[38;5;124m\"\u001b[39m\u001b[38;5;124ms/c/1\u001b[39m\u001b[38;5;124m\"\u001b[39m)\n\u001b[0;32m      4\u001b[0m ant \u001b[38;5;241m=\u001b[39m [\u001b[38;5;28mlist\u001b[39m(reglas(i)[\u001b[38;5;241m0\u001b[39m] \u001b[38;5;28;01mfor\u001b[39;00m i \u001b[38;5;129;01min\u001b[39;00m \u001b[38;5;28mrange\u001b[39m(\u001b[38;5;28mlen\u001b[39m(reglas)))]\n\u001b[0;32m      5\u001b[0m cons \u001b[38;5;241m=\u001b[39m [\u001b[38;5;28mlist\u001b[39m(\u001b[38;5;28mlist\u001b[39m(rules(i))[\u001b[38;5;241m1\u001b[39m]) \u001b[38;5;28;01mfor\u001b[39;00m i \u001b[38;5;129;01min\u001b[39;00m \u001b[38;5;28mrange\u001b[39m(\u001b[38;5;28mlen\u001b[39m(reglas))]\n",
      "\u001b[1;31mNameError\u001b[0m: name 'eclat' is not defined"
     ]
    }
   ],
   "source": [
    "result = []\n",
    "\n",
    "reglas = eclat(tracts = transaction, target=\"r\", supp=20, conf=50, zmin=2, report = \"s/c/1\")\n",
    "ant = [list(reglas(i)[0] for i in range(len(reglas)))]\n",
    "cons = [list(list(rules(i))[1]) for i in range(len(reglas))]\n",
    "supp = [list(list(rules(i))[4]) for i in range(len(reglas))]\n",
    "conf = [list(list(rules(i))[6]) for i in range(len(reglas))]\n",
    "lift = [list(list(rules(i))[4]) for i in range(len(reglas))]\n",
    "\n",
    "print(\"reglas de asociacion => \",len(reglas))"
   ]
  },
  {
   "cell_type": "code",
   "execution_count": 3,
   "id": "4a6a627f",
   "metadata": {},
   "outputs": [
    {
     "ename": "NameError",
     "evalue": "name 'eclat' is not defined",
     "output_type": "error",
     "traceback": [
      "\u001b[1;31m---------------------------------------------------------------------------\u001b[0m",
      "\u001b[1;31mNameError\u001b[0m                                 Traceback (most recent call last)",
      "Input \u001b[1;32mIn [3]\u001b[0m, in \u001b[0;36m<cell line: 1>\u001b[1;34m()\u001b[0m\n\u001b[1;32m----> 1\u001b[0m help(\u001b[43meclat\u001b[49m)\n",
      "\u001b[1;31mNameError\u001b[0m: name 'eclat' is not defined"
     ]
    }
   ],
   "source": [
    "help(eclat)"
   ]
  },
  {
   "cell_type": "code",
   "execution_count": null,
   "id": "2d5c6ad5",
   "metadata": {},
   "outputs": [],
   "source": []
  },
  {
   "cell_type": "code",
   "execution_count": null,
   "id": "ff78a5da",
   "metadata": {},
   "outputs": [],
   "source": []
  }
 ],
 "metadata": {
  "kernelspec": {
   "display_name": "Python 3 (ipykernel)",
   "language": "python",
   "name": "python3"
  },
  "language_info": {
   "codemirror_mode": {
    "name": "ipython",
    "version": 3
   },
   "file_extension": ".py",
   "mimetype": "text/x-python",
   "name": "python",
   "nbconvert_exporter": "python",
   "pygments_lexer": "ipython3",
   "version": "3.8.10"
  }
 },
 "nbformat": 4,
 "nbformat_minor": 5
}
