{
 "cells": [
  {
   "cell_type": "code",
   "execution_count": 9,
   "id": "ecb00477",
   "metadata": {},
   "outputs": [],
   "source": [
    "import numpy as np\n",
    "import pandas as pd\n",
    "\n",
    "import matplotlib.pyplot as plt\n",
    "\n",
    "from sklearn.preprocessing import StandardScaler, LabelEncoder\n",
    "from sklearn.decomposition import PCA"
   ]
  },
  {
   "cell_type": "code",
   "execution_count": 10,
   "id": "4dad7da9",
   "metadata": {},
   "outputs": [],
   "source": [
    "# datos originarios\n",
    "df_bill_atm = pd.read_csv(\"UCI_Credit_Card_BillATM.csv\", sep=\",\")"
   ]
  },
  {
   "cell_type": "code",
   "execution_count": 11,
   "id": "f094e9e1",
   "metadata": {},
   "outputs": [],
   "source": [
    "df_card_pay = pd.read_csv(\"UCI_Credit_Card_Pay.csv\", sep=\",\")"
   ]
  },
  {
   "cell_type": "code",
   "execution_count": 12,
   "id": "782b9963",
   "metadata": {},
   "outputs": [],
   "source": [
    "df_card_pay_atm = pd.read_csv(\"UCI_Credit_Card_PayATM.csv\", sep=\",\")"
   ]
  },
  {
   "cell_type": "code",
   "execution_count": 13,
   "id": "49d61ba1",
   "metadata": {},
   "outputs": [],
   "source": [
    "df_card_paynext = pd.read_csv(\"UCI_Credit_Card_PayNextMonth.csv\", sep=\",\")"
   ]
  },
  {
   "cell_type": "code",
   "execution_count": 14,
   "id": "f79216f0",
   "metadata": {},
   "outputs": [],
   "source": [
    "#id_cliente - limit_credito, - sexo - nivel_educacion - estado_civil - est_pago_por_mes "
   ]
  },
  {
   "cell_type": "markdown",
   "id": "daa49985",
   "metadata": {},
   "source": [
    "### se importaran los archivos\n",
    "#### en el DF df-bill_atm 'ID', 'LIMIT_BAL', 'SEX' seran id_cliente, limite_credito, genero correspondientemente, \"UCI_Credit_Card_Pay.csv\" no sera utilizado ya que no se utilizara niinguna variable aun asi se importo."
   ]
  },
  {
   "cell_type": "code",
   "execution_count": 15,
   "id": "8ccbc7b7",
   "metadata": {},
   "outputs": [],
   "source": [
    "filt_df_bill_atm = df_bill_atm[['ID','LIMIT_BAL','SEX']]"
   ]
  },
  {
   "cell_type": "code",
   "execution_count": 16,
   "id": "ad48c988",
   "metadata": {},
   "outputs": [],
   "source": [
    "filt_df_card_pay_atm = df_card_pay_atm[['ID','EDUCATION']]"
   ]
  },
  {
   "cell_type": "code",
   "execution_count": 17,
   "id": "4a98f140",
   "metadata": {},
   "outputs": [],
   "source": [
    "filt_df_card_paynext = df_card_paynext[['ID','MARRIAGE','default.payment.next.month']]"
   ]
  },
  {
   "cell_type": "code",
   "execution_count": 18,
   "id": "6f75f8cf",
   "metadata": {},
   "outputs": [],
   "source": [
    "parse_data_firts = pd.merge(filt_df_bill_atm, filt_df_card_pay_atm,on=\"ID\")"
   ]
  },
  {
   "cell_type": "code",
   "execution_count": 19,
   "id": "28bd9f56",
   "metadata": {},
   "outputs": [],
   "source": [
    "filter_table = pd.merge(parse_data_firts, filt_df_card_paynext, on =\"ID\")"
   ]
  },
  {
   "cell_type": "markdown",
   "id": "2af31a13",
   "metadata": {},
   "source": [
    "# Limpieza de datos\n",
    "#### 1 - Se eliminara los datos duplicados con base del id, ya que es el mismo cliente\n",
    "#### 2 - se reemplaza de la columna 'SEX' los NaN por un Valor 0 conciderandolo como 'no definido'\n",
    "#### 3 - se reemplaza los valores Null en la columna education"
   ]
  },
  {
   "cell_type": "code",
   "execution_count": 20,
   "id": "c81fbda8",
   "metadata": {},
   "outputs": [],
   "source": [
    "filter_table[\"SEX\"] = filter_table[\"SEX\"].fillna(0)\n",
    "filter_table[\"EDUCATION\"] = filter_table[\"EDUCATION\"].replace(\"Null\",0)"
   ]
  },
  {
   "cell_type": "code",
   "execution_count": 21,
   "id": "62813413",
   "metadata": {},
   "outputs": [],
   "source": [
    "final_filter = filter_table.drop_duplicates(subset=[\"ID\"])"
   ]
  },
  {
   "cell_type": "code",
   "execution_count": 22,
   "id": "8fa06e05",
   "metadata": {},
   "outputs": [],
   "source": [
    "filter_df_card_pay = df_card_pay.drop([\"LIMIT_BAL\",\"Unnamed: 0\"], axis=1)"
   ]
  },
  {
   "cell_type": "code",
   "execution_count": 23,
   "id": "f6d39b76",
   "metadata": {},
   "outputs": [],
   "source": [
    "final_filter = pd.merge(final_filter, filter_df_card_pay, on = \"ID\")"
   ]
  },
  {
   "cell_type": "code",
   "execution_count": 24,
   "id": "c397afbc",
   "metadata": {},
   "outputs": [],
   "source": [
    "filter_demo_df_bill_atm = df_bill_atm.drop([\"Unnamed: 0\", \"LIMIT_BAL\", \"SEX\"], axis=1)"
   ]
  },
  {
   "cell_type": "code",
   "execution_count": 25,
   "id": "fbc9f8cf",
   "metadata": {},
   "outputs": [],
   "source": [
    "final_filter = pd.merge(final_filter, filter_demo_df_bill_atm, on=\"ID\")"
   ]
  },
  {
   "cell_type": "code",
   "execution_count": 26,
   "id": "5a49d0fe",
   "metadata": {},
   "outputs": [],
   "source": [
    "filter_df_card_pay_atm_demo = df_card_pay_atm.drop([\"Unnamed: 0\", \"LIMIT_BAL\", \"EDUCATION\"], axis=1)"
   ]
  },
  {
   "cell_type": "code",
   "execution_count": 27,
   "id": "87c5eebd",
   "metadata": {},
   "outputs": [],
   "source": [
    "final_filter = pd.merge(final_filter, filter_df_card_pay_atm_demo, on = \"ID\")"
   ]
  },
  {
   "cell_type": "code",
   "execution_count": 28,
   "id": "0ff56178",
   "metadata": {},
   "outputs": [],
   "source": [
    "df_final = final_filter.iloc[:, [0,1,2,3,4,6,7,8,9,10,11,12,13,14,15,16,17,18,19,20,21,22,23,24,5]]"
   ]
  },
  {
   "cell_type": "markdown",
   "id": "ebb0e1ef",
   "metadata": {},
   "source": [
    "### Se cambian los titulos"
   ]
  },
  {
   "cell_type": "code",
   "execution_count": 39,
   "id": "52c2ac89",
   "metadata": {},
   "outputs": [],
   "source": [
    "list_columns = df_final.columns.values.tolist()"
   ]
  },
  {
   "cell_type": "code",
   "execution_count": 43,
   "id": "ae9f11db",
   "metadata": {},
   "outputs": [],
   "source": [
    "nuevas_columnas = list()\n",
    "for i in list_columns:\n",
    "    title = i.replace(\"_\", \" \").lower().title().replace(\".\", \" \")\n",
    "    nuevas_columnas.append(title)"
   ]
  },
  {
   "cell_type": "code",
   "execution_count": 48,
   "id": "d3943b64",
   "metadata": {},
   "outputs": [],
   "source": [
    "df_final.columns = nuevas_columnas"
   ]
  },
  {
   "cell_type": "code",
   "execution_count": 49,
   "id": "3b2c99e7",
   "metadata": {},
   "outputs": [],
   "source": [
    "writer = pd.ExcelWriter(\"tarea_1.xlsx\")"
   ]
  },
  {
   "cell_type": "code",
   "execution_count": 50,
   "id": "f6b8a9bf",
   "metadata": {},
   "outputs": [],
   "source": [
    "df_final.to_excel(writer)"
   ]
  },
  {
   "cell_type": "code",
   "execution_count": 51,
   "id": "df9f56bf",
   "metadata": {},
   "outputs": [],
   "source": [
    "writer.save()"
   ]
  },
  {
   "cell_type": "code",
   "execution_count": null,
   "id": "67c92b9f",
   "metadata": {},
   "outputs": [],
   "source": []
  },
  {
   "cell_type": "code",
   "execution_count": null,
   "id": "6f54b955",
   "metadata": {},
   "outputs": [],
   "source": []
  },
  {
   "cell_type": "code",
   "execution_count": null,
   "id": "1a0765da",
   "metadata": {},
   "outputs": [],
   "source": []
  },
  {
   "cell_type": "code",
   "execution_count": null,
   "id": "e45803f5",
   "metadata": {},
   "outputs": [],
   "source": []
  },
  {
   "cell_type": "code",
   "execution_count": null,
   "id": "bfd7c174",
   "metadata": {},
   "outputs": [],
   "source": []
  },
  {
   "cell_type": "code",
   "execution_count": null,
   "id": "e775136e",
   "metadata": {},
   "outputs": [],
   "source": []
  },
  {
   "cell_type": "code",
   "execution_count": null,
   "id": "0689a7d3",
   "metadata": {},
   "outputs": [],
   "source": []
  },
  {
   "cell_type": "code",
   "execution_count": null,
   "id": "acd078f2",
   "metadata": {},
   "outputs": [],
   "source": []
  },
  {
   "cell_type": "code",
   "execution_count": null,
   "id": "6970d931",
   "metadata": {},
   "outputs": [],
   "source": []
  },
  {
   "cell_type": "code",
   "execution_count": null,
   "id": "b7c1f185",
   "metadata": {},
   "outputs": [],
   "source": []
  },
  {
   "cell_type": "code",
   "execution_count": null,
   "id": "9f148a49",
   "metadata": {},
   "outputs": [],
   "source": []
  },
  {
   "cell_type": "code",
   "execution_count": null,
   "id": "b640fe0a",
   "metadata": {},
   "outputs": [],
   "source": []
  },
  {
   "cell_type": "code",
   "execution_count": null,
   "id": "b8bd0421",
   "metadata": {},
   "outputs": [],
   "source": []
  },
  {
   "cell_type": "code",
   "execution_count": null,
   "id": "5381fe81",
   "metadata": {},
   "outputs": [],
   "source": []
  },
  {
   "cell_type": "code",
   "execution_count": null,
   "id": "eaa6c33d",
   "metadata": {},
   "outputs": [],
   "source": []
  },
  {
   "cell_type": "code",
   "execution_count": null,
   "id": "2b6626d4",
   "metadata": {},
   "outputs": [],
   "source": []
  }
 ],
 "metadata": {
  "interpreter": {
   "hash": "d0d97aea142e3ccd9c1214148bcfee5d55fb18d9f061f8a4b7110c48d60cedef"
  },
  "kernelspec": {
   "display_name": "Python 3 (ipykernel)",
   "language": "python",
   "name": "python3"
  },
  "language_info": {
   "codemirror_mode": {
    "name": "ipython",
    "version": 3
   },
   "file_extension": ".py",
   "mimetype": "text/x-python",
   "name": "python",
   "nbconvert_exporter": "python",
   "pygments_lexer": "ipython3",
   "version": "3.9.12"
  }
 },
 "nbformat": 4,
 "nbformat_minor": 5
}
